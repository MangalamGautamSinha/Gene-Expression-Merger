{
 "cells": [
  {
   "cell_type": "code",
   "execution_count": null,
   "metadata": {},
   "outputs": [],
   "source": [
    "# This script merge the augmented_star_gene_counts.tsv files which are downloaded from GDC portal\n",
    "# keeping only gene_id, gene_name, gene_type==protein_coding and fpkm_unstranded from each file\n",
    "\n",
    "import os\n",
    "import pandas as pd\n",
    "from functools import reduce"
   ]
  },
  {
   "cell_type": "code",
   "execution_count": null,
   "metadata": {},
   "outputs": [],
   "source": [
    "input_folder = \"./Normal\"\n",
    "output_file_name= \"./merged_sheets/Normal_merged.csv\""
   ]
  },
  {
   "cell_type": "code",
   "execution_count": null,
   "metadata": {},
   "outputs": [],
   "source": [
    "dfs=[]\n",
    "for file in os.listdir(input_folder):\n",
    "    print(\"Processing file:\", file)\n",
    "    input_file = os.path.join(input_folder, file)\n",
    "    df = pd.read_csv(input_file, sep='\\t', skiprows={0,2,3,4,5})\n",
    "    df=df[[\"gene_id\",\"gene_name\",\"gene_type\",\"fpkm_unstranded\"]]\n",
    "    filename_without_extension, _ = os.path.splitext(file)\n",
    "    df.rename(columns={'fpkm_unstranded': filename_without_extension}, inplace=True)\n",
    "    df = df[df[\"gene_type\"] == \"protein_coding\"]\n",
    "    df.drop('gene_type', axis=1, inplace=True)\n",
    "    print(df.shape)\n",
    "    dfs.append(df)"
   ]
  },
  {
   "cell_type": "code",
   "execution_count": null,
   "metadata": {},
   "outputs": [],
   "source": [
    "print(dfs[0].head())"
   ]
  },
  {
   "cell_type": "code",
   "execution_count": null,
   "metadata": {},
   "outputs": [],
   "source": [
    "print(\"Merging Files...\")\n",
    "\n",
    "final_df = reduce(lambda  left,right: pd.merge(left,right,on=[\"gene_id\",\"gene_name\"],how='outer'), dfs)"
   ]
  },
  {
   "cell_type": "code",
   "execution_count": null,
   "metadata": {},
   "outputs": [],
   "source": [
    "final_df.to_csv(output_file_name, index=False)\n",
    "\n",
    "print(\"Completed\")"
   ]
  }
 ],
 "metadata": {
  "kernelspec": {
   "display_name": "Python 3",
   "language": "python",
   "name": "python3"
  },
  "language_info": {
   "codemirror_mode": {
    "name": "ipython",
    "version": 3
   },
   "file_extension": ".py",
   "mimetype": "text/x-python",
   "name": "python",
   "nbconvert_exporter": "python",
   "pygments_lexer": "ipython3",
   "version": "3.12.3"
  }
 },
 "nbformat": 4,
 "nbformat_minor": 2
}
